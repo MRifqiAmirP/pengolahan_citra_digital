{
 "cells": [
  {
   "cell_type": "code",
   "execution_count": 9,
   "metadata": {},
   "outputs": [],
   "source": [
    "import cv2 as cv\n",
    "import numpy as np"
   ]
  },
  {
   "cell_type": "code",
   "execution_count": 10,
   "metadata": {},
   "outputs": [],
   "source": [
    "def resize_images(img1, img2):\n",
    "    # Mendapatkan dimensi dari kedua gambar\n",
    "    h1, w1 = img1.shape[:2]\n",
    "    h2, w2 = img2.shape[:2]\n",
    "\n",
    "    # Menentukan dimensi terkecil\n",
    "    h = min(h1, h2)\n",
    "    w = min(w1, w2)\n",
    "\n",
    "    img1_resized = cv.resize(img1, (w, h))\n",
    "    img2_resized = cv.resize(img2, (w, h))\n",
    "\n",
    "    return img1_resized, img2_resized"
   ]
  },
  {
   "cell_type": "code",
   "execution_count": 11,
   "metadata": {},
   "outputs": [],
   "source": [
    "image1_path = \"Gambar/Pertemuan 6/Manchester_United_FC_Logo.png\"\n",
    "image2_path = \"Gambar/Pertemuan 6/Real_Madrid_CF_Logo.png\"\n",
    "\n",
    "def image_math_operation(image1, image2):\n",
    "    img1 = cv.imread(image1)\n",
    "    img2 = cv.imread(image2)\n",
    "    img1_resized, img2_resized = resize_images(img1, img2)\n",
    "\n",
    "    circle = cv.imread(\"Gambar/Pertemuan 6/circle.png\")\n",
    "    star = cv.imread(\"Gambar/Pertemuan 6/star.png\")\n",
    "\n",
    "    ruins = cv.imread(\"Gambar/Pertemuan 6/ruins.png\")\n",
    "    stars = cv.imread(\"Gambar/Pertemuan 6/stars.png\")\n",
    "\n",
    "    add_image =  cv.add(img1_resized, img2_resized)\n",
    "    # blend_image = cv.addWeighted(img1_resized, .5, img2_resized, 1, 0)\n",
    "    # substracted = cv.subtract(star, circle)\n",
    "    # multiply = cv.multiply(ruins, stars)\n",
    "\n",
    "    cv.imshow(\"Gambar\", add_image)\n",
    "\n",
    "    cv.waitKey(0)\n",
    "    cv.destroyAllWindows()"
   ]
  },
  {
   "cell_type": "code",
   "execution_count": 12,
   "metadata": {},
   "outputs": [],
   "source": [
    "image_math_operation(image1_path, image2_path)"
   ]
  }
 ],
 "metadata": {
  "kernelspec": {
   "display_name": "pcd-env",
   "language": "python",
   "name": "python3"
  },
  "language_info": {
   "codemirror_mode": {
    "name": "ipython",
    "version": 3
   },
   "file_extension": ".py",
   "mimetype": "text/x-python",
   "name": "python",
   "nbconvert_exporter": "python",
   "pygments_lexer": "ipython3",
   "version": "3.12.3"
  }
 },
 "nbformat": 4,
 "nbformat_minor": 2
}
